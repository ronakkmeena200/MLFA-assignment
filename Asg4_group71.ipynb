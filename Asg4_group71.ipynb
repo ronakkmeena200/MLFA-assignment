{
 "cells": [
  {
   "cell_type": "markdown",
   "metadata": {},
   "source": [
    "#  Assignment 4\n",
    "*  Anirudh Gupta         18ME10006\n",
    "*  Rahul Kumar Meena     18EC30033\n",
    "*  Shreyans Ray          18ME10084"
   ]
  },
  {
   "cell_type": "code",
   "execution_count": 2,
   "metadata": {},
   "outputs": [
    {
     "name": "stdout",
     "output_type": "stream",
     "text": [
      "(358, 124)\n"
     ]
    }
   ],
   "source": [
    "                      #converted the .mat file to a numpy array named data for easy access\n",
    "\n",
    "import scipy.io\n",
    "import pandas as pd\n",
    "from sklearn.tree import DecisionTreeClassifier\n",
    "from sklearn.metrics import accuracy_score\n",
    "import numpy as np\n",
    "from sklearn.linear_model import LinearRegression\n",
    "from sklearn import linear_model\n",
    "import matplotlib.pyplot as plt\n",
    "\n",
    "mat = scipy.io.loadmat('2010rainfall.mat')\n",
    "mat1 = scipy.io.loadmat('2011rainfall.mat')\n",
    "#print(mat)\n",
    "\n",
    "arr = np.array((mat['XR1'], mat['ZR1']))\n",
    "arr1 = np.array((mat1['XR'], mat1['ZR']))\n",
    "\n",
    "data = np.concatenate((arr[0], arr[1]))\n",
    "data = np.concatenate((np.zeros((358,2)),data),axis=1)\n",
    "\n",
    "data1 = np.concatenate((arr1[0], arr1[1]))\n",
    "data1 = np.concatenate((np.zeros((358,2)),data1),axis=1)\n",
    "\n",
    "print(np.shape(data))"
   ]
  },
  {
   "cell_type": "code",
   "execution_count": 3,
   "metadata": {},
   "outputs": [
    {
     "name": "stdout",
     "output_type": "stream",
     "text": [
      "-4.554758011037968\n",
      "2.0405354360029513\n",
      "1.8553284879922725\n"
     ]
    }
   ],
   "source": [
    "## each day act as a data point whereas there are total 358(356+2) features for each data point\n",
    "## have considered 120 days and excluded 1st 2 days for each location\n",
    "\n",
    "\n",
    "def xfunc(s,d):\n",
    "    x=np.array([])\n",
    "    for t in range(2,124):       \n",
    "        for i in range(357):\n",
    "            if (i==s):\n",
    "                continue\n",
    "            x=np.append(x,d[i][t])\n",
    "        x=np.append(x,d[s][t-1])\n",
    "        x=np.append(x,d[s][t-2])\n",
    "    x=x.reshape(122,358)\n",
    "    #x= x.T\n",
    "    return x\n",
    "    print(x)\n",
    "\n",
    "def yfunc(s,d):\n",
    "    y=np.array([])\n",
    "    for k in range(2,124):\n",
    "        y=np.append(y,d[s][k])\n",
    "    return y\n",
    "\n",
    "\n",
    "city_test =[41,157,298] ; city_title=['Mumbai','Delhi','Kharagpur']\n",
    "w_city_test =[[],[],[]];    b_city_test=[[],[],[]];    \n",
    "for i in range(3):\n",
    "    X=xfunc(city_test[i],data)\n",
    "    y=yfunc(city_test[i],data)\n",
    "    reg = LinearRegression().fit(X,y)\n",
    "    \n",
    "    #print(type(reg.coef_))\n",
    "    w_city_test[i].append(reg.coef_)\n",
    "    b_city_test[i]=reg.intercept_\n",
    "    print(b_city_test[i])\n",
    "#print(w_city_test[i][0])\n"
   ]
  },
  {
   "cell_type": "markdown",
   "metadata": {},
   "source": [
    "# Error Using Linear Regression for given 3 cities"
   ]
  },
  {
   "cell_type": "code",
   "execution_count": 4,
   "metadata": {},
   "outputs": [
    {
     "name": "stdout",
     "output_type": "stream",
     "text": [
      "Mean Squared Error for  Mumbai : 1333.1478608269015\n",
      "Mean Squared Error for  Delhi : 480.8601510501071\n",
      "Mean Squared Error for  Kharagpur : 509.3545305836276\n"
     ]
    }
   ],
   "source": [
    "city_mse=[]\n",
    "for j in range(3):\n",
    "    x_test = xfunc(city_test[j],data1)\n",
    "    y_true = yfunc(city_test[j],data1)\n",
    "    sq_err = 0\n",
    "    w =w_city_test[j]\n",
    "    for i in range(0, 122):       \n",
    "        y_pred = np.dot(w[0].T, x_test[i]) + b_city_test[j]\n",
    "        sq_err += (y_true[i] - y_pred)**2\n",
    "        \n",
    "    city_mse.append(sq_err/122)\n",
    "    print(\"Mean Squared Error for \",city_title[j],':',city_mse[j])       \n"
   ]
  },
  {
   "cell_type": "markdown",
   "metadata": {},
   "source": [
    "# Lasso Regression Model"
   ]
  },
  {
   "cell_type": "code",
   "execution_count": 10,
   "metadata": {},
   "outputs": [
    {
     "name": "stdout",
     "output_type": "stream",
     "text": [
      "Most important features for Mumbai  are:  \n",
      "s= 2\n",
      "s= 6\n",
      "s= 26\n",
      "s= 40\n",
      "s= 41\n",
      "s= 317\n",
      "\n",
      "\n",
      "Most important features for Delhi  are:  \n",
      "s= 26\n",
      "s= 160\n",
      "s= 162\n",
      "s= 216\n",
      "s= 217\n",
      "\n",
      "\n",
      "Most important features for Kharagpur  are:  \n",
      "s= 162\n",
      "s= 231\n",
      "s= 233\n",
      "s= 248\n",
      "s= 305\n",
      "\n",
      "\n"
     ]
    }
   ],
   "source": [
    "\n",
    "a=[38.67,70,57]\n",
    "for j in range(3):\n",
    "    x = xfunc(city_test[j],data)\n",
    "    y = yfunc(city_test[j],data)\n",
    "    clf = linear_model.Lasso(alpha = a[j])\n",
    "    clf.fit(x, y)\n",
    "    w = clf.coef_\n",
    "    print(\"Most important features for\",city_title[j],\" are:  \")\n",
    "    for i in range(358):\n",
    "        if w[i] != 0:\n",
    "            if i<city_test[j]:\n",
    "                print('s=',i+1)\n",
    "            if (i>=city_test[j]) & (i<356):\n",
    "                print('s=',i+2)\n",
    "            if i==356 :\n",
    "                print('t-1')\n",
    "            if i==357 :\n",
    "                print('t-2')\n",
    "                \n",
    "    print(\"\\n\")\n",
    "    "
   ]
  },
  {
   "cell_type": "markdown",
   "metadata": {},
   "source": [
    "#            Decision Tree"
   ]
  },
  {
   "cell_type": "code",
   "execution_count": 11,
   "metadata": {},
   "outputs": [
    {
     "data": {
      "text/plain": [
       "DecisionTreeClassifier(class_weight=None, criterion='entropy', max_depth=None,\n",
       "            max_features=None, max_leaf_nodes=10,\n",
       "            min_impurity_decrease=0.0, min_impurity_split=None,\n",
       "            min_samples_leaf=1, min_samples_split=2,\n",
       "            min_weight_fraction_leaf=0.0, presort=False, random_state=None,\n",
       "            splitter='best')"
      ]
     },
     "execution_count": 11,
     "metadata": {},
     "output_type": "execute_result"
    }
   ],
   "source": [
    "                                          ## Preparing data for Decision Tree ##\n",
    "x_train_df =pd.DataFrame(data[:357,2:]).T\n",
    "y_train_df =pd.DataFrame(data[357,2:])\n",
    "x_test_df = pd.DataFrame(data1[:357,2:]).T\n",
    "y_test_df =pd.DataFrame(data[357,2:])\n",
    "\n",
    "classifier = DecisionTreeClassifier(criterion = \"entropy\",max_leaf_nodes=10)\n",
    "classifier.fit(x_train_df, y_train_df)\n"
   ]
  },
  {
   "cell_type": "code",
   "execution_count": 12,
   "metadata": {
    "scrolled": false
   },
   "outputs": [
    {
     "name": "stdout",
     "output_type": "stream",
     "text": [
      "feature: 160  importance: 0.27865916071196073\n",
      "feature: 124  importance: 0.18085498917357495\n",
      "feature: 217  importance: 0.1669997669561775\n",
      "feature: 30  importance: 0.11341020095907922\n",
      "feature: 265  importance: 0.07018231558067003\n",
      "feature: 29  importance: 0.06985001395749772\n",
      "feature: 353  importance: 0.06292302748351512\n",
      "feature: 84  importance: 0.057120525177524695\n",
      "feature: 357  importance: 0.0\n",
      "feature: 356  importance: 0.0\n"
     ]
    },
    {
     "data": {
      "text/plain": [
       "<function matplotlib.pyplot.show(*args, **kw)>"
      ]
     },
     "execution_count": 12,
     "metadata": {},
     "output_type": "execute_result"
    },
    {
     "data": {
      "image/png": "[encoded data removed]",
      "text/plain": [
       "<Figure size 432x288 with 1 Axes>"
      ]
     },
     "metadata": {
      "needs_background": "light"
     },
     "output_type": "display_data"
    }
   ],
   "source": [
    "                                      ## Top 10 Important features ##\n",
    "for importance, name in sorted(zip(classifier.feature_importances_, x_train_df.columns),reverse=True)[:10]:\n",
    "    print (\"feature:\",name+1,\" importance:\", importance)\n",
    "\n",
    "importance= classifier.feature_importances_ \n",
    "\n",
    "\n",
    "plt.plot([i for i in range(len(importance))], importance,'r')\n",
    "plt.xlabel('Features')\n",
    "plt.ylabel('importance')\n",
    "plt.show  \n"
   ]
  },
  {
   "cell_type": "code",
   "execution_count": 13,
   "metadata": {},
   "outputs": [
    {
     "data": {
      "text/plain": [
       "61.47540983606557"
      ]
     },
     "execution_count": 13,
     "metadata": {},
     "output_type": "execute_result"
    }
   ],
   "source": [
    "                                                 ## Accuracy ##\n",
    "pred =classifier.predict(x_test_df) \n",
    "accuracy_score(y_test_df,pred)*100\n"
   ]
  },
  {
   "cell_type": "code",
   "execution_count": 14,
   "metadata": {},
   "outputs": [
    {
     "data": {
      "text/plain": [
       "61.47540983606557"
      ]
     },
     "execution_count": 14,
     "metadata": {},
     "output_type": "execute_result"
    }
   ],
   "source": [
    "c=0\n",
    "t= np.array(y_test_df)\n",
    "for i in range(122):\n",
    "    if (t[i] ==pred[i]):\n",
    "        c+=1\n",
    "(c/122)*100"
   ]
  },
  {
   "cell_type": "code",
   "execution_count": null,
   "metadata": {},
   "outputs": [],
   "source": []
  }
 ],
 "metadata": {
  "kernelspec": {
   "display_name": "Python 3",
   "language": "python",
   "name": "python3"
  },
  "language_info": {
   "codemirror_mode": {
    "name": "ipython",
    "version": 3
   },
   "file_extension": ".py",
   "mimetype": "text/x-python",
   "name": "python",
   "nbconvert_exporter": "python",
   "pygments_lexer": "ipython3",
   "version": "3.7.1"
  }
 },
 "nbformat": 4,
 "nbformat_minor": 2
}
